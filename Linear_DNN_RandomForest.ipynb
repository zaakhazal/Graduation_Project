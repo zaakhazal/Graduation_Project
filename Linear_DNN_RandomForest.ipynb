{
  "nbformat": 4,
  "nbformat_minor": 0,
  "metadata": {
    "colab": {
      "name": "Linear_DNN_RandomForest.ipynb",
      "provenance": [],
      "authorship_tag": "ABX9TyPdg9rCmvvshdoFFeF/stz8",
      "include_colab_link": true
    },
    "kernelspec": {
      "name": "python3",
      "display_name": "Python 3"
    },
    "language_info": {
      "name": "python"
    }
  },
  "cells": [
    {
      "cell_type": "markdown",
      "metadata": {
        "id": "view-in-github",
        "colab_type": "text"
      },
      "source": [
        "<a href=\"https://colab.research.google.com/github/zaakhazal/Graduation_Project/blob/main/Linear_DNN_RandomForest.ipynb\" target=\"_parent\"><img src=\"https://colab.research.google.com/assets/colab-badge.svg\" alt=\"Open In Colab\"/></a>"
      ]
    },
    {
      "cell_type": "code",
      "execution_count": null,
      "metadata": {
        "id": "46ru2miOFVWq"
      },
      "outputs": [],
      "source": [
        "import numpy as np, pandas as pd\n",
        "import tensorflow as tf\n",
        "from keras import Model, layers, Sequential\n",
        "import matplotlib.pyplot as plt\n",
        "from keras.layers import Dense\n",
        "import seaborn as sns\n",
        "%matplotlib inline\n",
        "\n",
        "# scikit-learn modules\n",
        "from sklearn.model_selection import train_test_split # for splitting the data\n",
        "from sklearn.metrics import mean_squared_error # for calculating the cost function\n",
        "from sklearn.ensemble import RandomForestRegressor # for building the model\n",
        "\n",
        "np.set_printoptions(precision=3, suppress=True)"
      ]
    },
    {
      "cell_type": "code",
      "execution_count": null,
      "metadata": {
        "id": "MwyH-cm4I9e3"
      },
      "outputs": [],
      "source": [
        "from google.colab import drive\n",
        "drive.mount('/content/drive')"
      ]
    },
    {
      "cell_type": "code",
      "source": [
        "import pandas as pd\n",
        "path = \"/content/drive/MyDrive/colab/students_dataset03.csv\"\n",
        "df = pd.read_csv(path)"
      ],
      "metadata": {
        "id": "SaJwTe7VJZAD"
      },
      "execution_count": null,
      "outputs": []
    },
    {
      "cell_type": "code",
      "execution_count": null,
      "metadata": {
        "id": "-OrGVpgwhXC_"
      },
      "outputs": [],
      "source": [
        "dataset = df.copy()\n",
        "dataset = dataset.astype(float)"
      ]
    },
    {
      "cell_type": "code",
      "execution_count": null,
      "metadata": {
        "id": "MtZaNDEZiIOl",
        "colab": {
          "base_uri": "https://localhost:8080/"
        },
        "outputId": "4401367d-6e4a-4fab-86be-2a0ce0a74616"
      },
      "outputs": [
        {
          "output_type": "stream",
          "name": "stdout",
          "text": [
            "No. of training examples: 105\n",
            "No. of testing examples: 26\n"
          ]
        }
      ],
      "source": [
        "#sipliting train and test dataset\n",
        "train_dataset = dataset.sample(frac=0.8, random_state=0)\n",
        "test_dataset = dataset.drop(train_dataset.index)\n",
        "\n",
        "print(f\"No. of training examples: {train_dataset.shape[0]}\")\n",
        "print(f\"No. of testing examples: {test_dataset.shape[0]}\")"
      ]
    },
    {
      "cell_type": "code",
      "execution_count": null,
      "metadata": {
        "colab": {
          "base_uri": "https://localhost:8080/",
          "height": 510
        },
        "id": "fPchMKjs7wTQ",
        "outputId": "87d7987e-7ac4-4ab1-d310-4335a41797cb"
      },
      "outputs": [
        {
          "output_type": "execute_result",
          "data": {
            "text/plain": [
              "                                                    count       mean  \\\n",
              "You are studying in semester                        105.0   4.295238   \n",
              "your GAT percentage is?                             105.0  84.056524   \n",
              "your 2nd percentage is?                             105.0  75.574381   \n",
              "How seriously do you take your pre examination ...  105.0   0.676190   \n",
              "Self study per day?                                 105.0   0.609524   \n",
              "You spend in googling study materials               105.0   0.685714   \n",
              "Do you have a personal hobby?                       105.0   1.047619   \n",
              "Do you do your assignment yourself?                 105.0   1.238095   \n",
              "How is your class attendance?                       105.0   0.533333   \n",
              "How do you do your assignments?                     105.0   0.566537   \n",
              "How interactive and attentive are you during le...  105.0   3.038095   \n",
              "What study materials do you rely on?                105.0   2.009524   \n",
              "How often do you take online courses?               105.0   1.609524   \n",
              "Is there any senior or junior member in your fa...  105.0   0.828571   \n",
              "Do you have any mentors other than family membe...  105.0   0.537143   \n",
              "Do you have any family problems?                    105.0   0.790476   \n",
              "Do you have any health problems?                    105.0   0.819048   \n",
              "GPA                                                 105.0   3.089330   \n",
              "\n",
              "                                                         std   min     25%  \\\n",
              "You are studying in semester                        1.807696   2.0   3.000   \n",
              "your GAT percentage is?                             4.289123  70.0  81.000   \n",
              "your 2nd percentage is?                             6.363086  57.0  72.000   \n",
              "How seriously do you take your pre examination ...  0.642939   0.0   0.000   \n",
              "Self study per day?                                 0.490197   0.0   0.000   \n",
              "You spend in googling study materials               0.466457   0.0   0.000   \n",
              "Do you have a personal hobby?                       0.944426   0.0   0.000   \n",
              "Do you do your assignment yourself?                 0.893608   0.0   0.000   \n",
              "How is your class attendance?                       0.680309   0.0   0.000   \n",
              "How do you do your assignments?                     0.873197   0.0   0.100   \n",
              "How interactive and attentive are you during le...  0.865179   1.0   3.000   \n",
              "What study materials do you rely on?                1.172565   0.0   1.000   \n",
              "How often do you take online courses?               0.753138   0.0   2.000   \n",
              "Is there any senior or junior member in your fa...  0.378691   0.0   1.000   \n",
              "Do you have any mentors other than family membe...  0.461448   0.0   0.100   \n",
              "Do you have any family problems?                    0.408921   0.0   1.000   \n",
              "Do you have any health problems?                    0.386825   0.0   1.000   \n",
              "GPA                                                 0.539894   0.0   2.833   \n",
              "\n",
              "                                                        50%      75%    max  \n",
              "You are studying in semester                         4.0000   6.0000   8.00  \n",
              "your GAT percentage is?                             85.0000  87.5000  91.13  \n",
              "your 2nd percentage is?                             76.0000  80.0000  86.40  \n",
              "How seriously do you take your pre examination ...   1.0000   1.0000   2.00  \n",
              "Self study per day?                                  1.0000   1.0000   1.00  \n",
              "You spend in googling study materials                1.0000   1.0000   1.00  \n",
              "Do you have a personal hobby?                        1.0000   2.0000   2.00  \n",
              "Do you do your assignment yourself?                  2.0000   2.0000   3.00  \n",
              "How is your class attendance?                        0.0000   1.0000   2.00  \n",
              "How do you do your assignments?                      0.1300   1.0000   3.00  \n",
              "How interactive and attentive are you during le...   3.0000   4.0000   5.00  \n",
              "What study materials do you rely on?                 3.0000   3.0000   3.00  \n",
              "How often do you take online courses?                2.0000   2.0000   2.00  \n",
              "Is there any senior or junior member in your fa...   1.0000   1.0000   1.00  \n",
              "Do you have any mentors other than family membe...   0.1000   1.0000   1.00  \n",
              "Do you have any family problems?                     1.0000   1.0000   1.00  \n",
              "Do you have any health problems?                     1.0000   1.0000   1.00  \n",
              "GPA                                                  3.1375   3.4257   3.97  "
            ],
            "text/html": [
              "\n",
              "  <div id=\"df-193620a6-a937-4dd0-a953-768a127f8ee8\">\n",
              "    <div class=\"colab-df-container\">\n",
              "      <div>\n",
              "<style scoped>\n",
              "    .dataframe tbody tr th:only-of-type {\n",
              "        vertical-align: middle;\n",
              "    }\n",
              "\n",
              "    .dataframe tbody tr th {\n",
              "        vertical-align: top;\n",
              "    }\n",
              "\n",
              "    .dataframe thead th {\n",
              "        text-align: right;\n",
              "    }\n",
              "</style>\n",
              "<table border=\"1\" class=\"dataframe\">\n",
              "  <thead>\n",
              "    <tr style=\"text-align: right;\">\n",
              "      <th></th>\n",
              "      <th>count</th>\n",
              "      <th>mean</th>\n",
              "      <th>std</th>\n",
              "      <th>min</th>\n",
              "      <th>25%</th>\n",
              "      <th>50%</th>\n",
              "      <th>75%</th>\n",
              "      <th>max</th>\n",
              "    </tr>\n",
              "  </thead>\n",
              "  <tbody>\n",
              "    <tr>\n",
              "      <th>You are studying in semester</th>\n",
              "      <td>105.0</td>\n",
              "      <td>4.295238</td>\n",
              "      <td>1.807696</td>\n",
              "      <td>2.0</td>\n",
              "      <td>3.000</td>\n",
              "      <td>4.0000</td>\n",
              "      <td>6.0000</td>\n",
              "      <td>8.00</td>\n",
              "    </tr>\n",
              "    <tr>\n",
              "      <th>your GAT percentage is?</th>\n",
              "      <td>105.0</td>\n",
              "      <td>84.056524</td>\n",
              "      <td>4.289123</td>\n",
              "      <td>70.0</td>\n",
              "      <td>81.000</td>\n",
              "      <td>85.0000</td>\n",
              "      <td>87.5000</td>\n",
              "      <td>91.13</td>\n",
              "    </tr>\n",
              "    <tr>\n",
              "      <th>your 2nd percentage is?</th>\n",
              "      <td>105.0</td>\n",
              "      <td>75.574381</td>\n",
              "      <td>6.363086</td>\n",
              "      <td>57.0</td>\n",
              "      <td>72.000</td>\n",
              "      <td>76.0000</td>\n",
              "      <td>80.0000</td>\n",
              "      <td>86.40</td>\n",
              "    </tr>\n",
              "    <tr>\n",
              "      <th>How seriously do you take your pre examination breaks?</th>\n",
              "      <td>105.0</td>\n",
              "      <td>0.676190</td>\n",
              "      <td>0.642939</td>\n",
              "      <td>0.0</td>\n",
              "      <td>0.000</td>\n",
              "      <td>1.0000</td>\n",
              "      <td>1.0000</td>\n",
              "      <td>2.00</td>\n",
              "    </tr>\n",
              "    <tr>\n",
              "      <th>Self study per day?</th>\n",
              "      <td>105.0</td>\n",
              "      <td>0.609524</td>\n",
              "      <td>0.490197</td>\n",
              "      <td>0.0</td>\n",
              "      <td>0.000</td>\n",
              "      <td>1.0000</td>\n",
              "      <td>1.0000</td>\n",
              "      <td>1.00</td>\n",
              "    </tr>\n",
              "    <tr>\n",
              "      <th>You spend in googling study materials</th>\n",
              "      <td>105.0</td>\n",
              "      <td>0.685714</td>\n",
              "      <td>0.466457</td>\n",
              "      <td>0.0</td>\n",
              "      <td>0.000</td>\n",
              "      <td>1.0000</td>\n",
              "      <td>1.0000</td>\n",
              "      <td>1.00</td>\n",
              "    </tr>\n",
              "    <tr>\n",
              "      <th>Do you have a personal hobby?</th>\n",
              "      <td>105.0</td>\n",
              "      <td>1.047619</td>\n",
              "      <td>0.944426</td>\n",
              "      <td>0.0</td>\n",
              "      <td>0.000</td>\n",
              "      <td>1.0000</td>\n",
              "      <td>2.0000</td>\n",
              "      <td>2.00</td>\n",
              "    </tr>\n",
              "    <tr>\n",
              "      <th>Do you do your assignment yourself?</th>\n",
              "      <td>105.0</td>\n",
              "      <td>1.238095</td>\n",
              "      <td>0.893608</td>\n",
              "      <td>0.0</td>\n",
              "      <td>0.000</td>\n",
              "      <td>2.0000</td>\n",
              "      <td>2.0000</td>\n",
              "      <td>3.00</td>\n",
              "    </tr>\n",
              "    <tr>\n",
              "      <th>How is your class attendance?</th>\n",
              "      <td>105.0</td>\n",
              "      <td>0.533333</td>\n",
              "      <td>0.680309</td>\n",
              "      <td>0.0</td>\n",
              "      <td>0.000</td>\n",
              "      <td>0.0000</td>\n",
              "      <td>1.0000</td>\n",
              "      <td>2.00</td>\n",
              "    </tr>\n",
              "    <tr>\n",
              "      <th>How do you do your assignments?</th>\n",
              "      <td>105.0</td>\n",
              "      <td>0.566537</td>\n",
              "      <td>0.873197</td>\n",
              "      <td>0.0</td>\n",
              "      <td>0.100</td>\n",
              "      <td>0.1300</td>\n",
              "      <td>1.0000</td>\n",
              "      <td>3.00</td>\n",
              "    </tr>\n",
              "    <tr>\n",
              "      <th>How interactive and attentive are you during lecture?</th>\n",
              "      <td>105.0</td>\n",
              "      <td>3.038095</td>\n",
              "      <td>0.865179</td>\n",
              "      <td>1.0</td>\n",
              "      <td>3.000</td>\n",
              "      <td>3.0000</td>\n",
              "      <td>4.0000</td>\n",
              "      <td>5.00</td>\n",
              "    </tr>\n",
              "    <tr>\n",
              "      <th>What study materials do you rely on?</th>\n",
              "      <td>105.0</td>\n",
              "      <td>2.009524</td>\n",
              "      <td>1.172565</td>\n",
              "      <td>0.0</td>\n",
              "      <td>1.000</td>\n",
              "      <td>3.0000</td>\n",
              "      <td>3.0000</td>\n",
              "      <td>3.00</td>\n",
              "    </tr>\n",
              "    <tr>\n",
              "      <th>How often do you take online courses?</th>\n",
              "      <td>105.0</td>\n",
              "      <td>1.609524</td>\n",
              "      <td>0.753138</td>\n",
              "      <td>0.0</td>\n",
              "      <td>2.000</td>\n",
              "      <td>2.0000</td>\n",
              "      <td>2.0000</td>\n",
              "      <td>2.00</td>\n",
              "    </tr>\n",
              "    <tr>\n",
              "      <th>Is there any senior or junior member in your family also studying Computer Science?</th>\n",
              "      <td>105.0</td>\n",
              "      <td>0.828571</td>\n",
              "      <td>0.378691</td>\n",
              "      <td>0.0</td>\n",
              "      <td>1.000</td>\n",
              "      <td>1.0000</td>\n",
              "      <td>1.0000</td>\n",
              "      <td>1.00</td>\n",
              "    </tr>\n",
              "    <tr>\n",
              "      <th>Do you have any mentors other than family members who can help you in your studies?</th>\n",
              "      <td>105.0</td>\n",
              "      <td>0.537143</td>\n",
              "      <td>0.461448</td>\n",
              "      <td>0.0</td>\n",
              "      <td>0.100</td>\n",
              "      <td>0.1000</td>\n",
              "      <td>1.0000</td>\n",
              "      <td>1.00</td>\n",
              "    </tr>\n",
              "    <tr>\n",
              "      <th>Do you have any family problems?</th>\n",
              "      <td>105.0</td>\n",
              "      <td>0.790476</td>\n",
              "      <td>0.408921</td>\n",
              "      <td>0.0</td>\n",
              "      <td>1.000</td>\n",
              "      <td>1.0000</td>\n",
              "      <td>1.0000</td>\n",
              "      <td>1.00</td>\n",
              "    </tr>\n",
              "    <tr>\n",
              "      <th>Do you have any health problems?</th>\n",
              "      <td>105.0</td>\n",
              "      <td>0.819048</td>\n",
              "      <td>0.386825</td>\n",
              "      <td>0.0</td>\n",
              "      <td>1.000</td>\n",
              "      <td>1.0000</td>\n",
              "      <td>1.0000</td>\n",
              "      <td>1.00</td>\n",
              "    </tr>\n",
              "    <tr>\n",
              "      <th>GPA</th>\n",
              "      <td>105.0</td>\n",
              "      <td>3.089330</td>\n",
              "      <td>0.539894</td>\n",
              "      <td>0.0</td>\n",
              "      <td>2.833</td>\n",
              "      <td>3.1375</td>\n",
              "      <td>3.4257</td>\n",
              "      <td>3.97</td>\n",
              "    </tr>\n",
              "  </tbody>\n",
              "</table>\n",
              "</div>\n",
              "      <button class=\"colab-df-convert\" onclick=\"convertToInteractive('df-193620a6-a937-4dd0-a953-768a127f8ee8')\"\n",
              "              title=\"Convert this dataframe to an interactive table.\"\n",
              "              style=\"display:none;\">\n",
              "        \n",
              "  <svg xmlns=\"http://www.w3.org/2000/svg\" height=\"24px\"viewBox=\"0 0 24 24\"\n",
              "       width=\"24px\">\n",
              "    <path d=\"M0 0h24v24H0V0z\" fill=\"none\"/>\n",
              "    <path d=\"M18.56 5.44l.94 2.06.94-2.06 2.06-.94-2.06-.94-.94-2.06-.94 2.06-2.06.94zm-11 1L8.5 8.5l.94-2.06 2.06-.94-2.06-.94L8.5 2.5l-.94 2.06-2.06.94zm10 10l.94 2.06.94-2.06 2.06-.94-2.06-.94-.94-2.06-.94 2.06-2.06.94z\"/><path d=\"M17.41 7.96l-1.37-1.37c-.4-.4-.92-.59-1.43-.59-.52 0-1.04.2-1.43.59L10.3 9.45l-7.72 7.72c-.78.78-.78 2.05 0 2.83L4 21.41c.39.39.9.59 1.41.59.51 0 1.02-.2 1.41-.59l7.78-7.78 2.81-2.81c.8-.78.8-2.07 0-2.86zM5.41 20L4 18.59l7.72-7.72 1.47 1.35L5.41 20z\"/>\n",
              "  </svg>\n",
              "      </button>\n",
              "      \n",
              "  <style>\n",
              "    .colab-df-container {\n",
              "      display:flex;\n",
              "      flex-wrap:wrap;\n",
              "      gap: 12px;\n",
              "    }\n",
              "\n",
              "    .colab-df-convert {\n",
              "      background-color: #E8F0FE;\n",
              "      border: none;\n",
              "      border-radius: 50%;\n",
              "      cursor: pointer;\n",
              "      display: none;\n",
              "      fill: #1967D2;\n",
              "      height: 32px;\n",
              "      padding: 0 0 0 0;\n",
              "      width: 32px;\n",
              "    }\n",
              "\n",
              "    .colab-df-convert:hover {\n",
              "      background-color: #E2EBFA;\n",
              "      box-shadow: 0px 1px 2px rgba(60, 64, 67, 0.3), 0px 1px 3px 1px rgba(60, 64, 67, 0.15);\n",
              "      fill: #174EA6;\n",
              "    }\n",
              "\n",
              "    [theme=dark] .colab-df-convert {\n",
              "      background-color: #3B4455;\n",
              "      fill: #D2E3FC;\n",
              "    }\n",
              "\n",
              "    [theme=dark] .colab-df-convert:hover {\n",
              "      background-color: #434B5C;\n",
              "      box-shadow: 0px 1px 3px 1px rgba(0, 0, 0, 0.15);\n",
              "      filter: drop-shadow(0px 1px 2px rgba(0, 0, 0, 0.3));\n",
              "      fill: #FFFFFF;\n",
              "    }\n",
              "  </style>\n",
              "\n",
              "      <script>\n",
              "        const buttonEl =\n",
              "          document.querySelector('#df-193620a6-a937-4dd0-a953-768a127f8ee8 button.colab-df-convert');\n",
              "        buttonEl.style.display =\n",
              "          google.colab.kernel.accessAllowed ? 'block' : 'none';\n",
              "\n",
              "        async function convertToInteractive(key) {\n",
              "          const element = document.querySelector('#df-193620a6-a937-4dd0-a953-768a127f8ee8');\n",
              "          const dataTable =\n",
              "            await google.colab.kernel.invokeFunction('convertToInteractive',\n",
              "                                                     [key], {});\n",
              "          if (!dataTable) return;\n",
              "\n",
              "          const docLinkHtml = 'Like what you see? Visit the ' +\n",
              "            '<a target=\"_blank\" href=https://colab.research.google.com/notebooks/data_table.ipynb>data table notebook</a>'\n",
              "            + ' to learn more about interactive tables.';\n",
              "          element.innerHTML = '';\n",
              "          dataTable['output_type'] = 'display_data';\n",
              "          await google.colab.output.renderOutput(dataTable, element);\n",
              "          const docLink = document.createElement('div');\n",
              "          docLink.innerHTML = docLinkHtml;\n",
              "          element.appendChild(docLink);\n",
              "        }\n",
              "      </script>\n",
              "    </div>\n",
              "  </div>\n",
              "  "
            ]
          },
          "metadata": {},
          "execution_count": 7
        }
      ],
      "source": [
        "train_dataset.describe().transpose()"
      ]
    },
    {
      "cell_type": "code",
      "execution_count": null,
      "metadata": {
        "id": "cmpfJ6xaDP1c"
      },
      "outputs": [],
      "source": [
        "#features is x, labels is y\n",
        "train_features = train_dataset.copy()\n",
        "test_features = test_dataset.copy()\n",
        "\n",
        "train_labels = train_features.pop('GPA')\n",
        "test_labels = test_features.pop('GPA')"
      ]
    },
    {
      "cell_type": "markdown",
      "source": [
        "### The Normalization layer"
      ],
      "metadata": {
        "id": "N00Sz64IZ37C"
      }
    },
    {
      "cell_type": "code",
      "source": [
        "normalizer = tf.keras.layers.Normalization(axis=-1)\n",
        "normalizer.adapt(np.array(train_features))"
      ],
      "metadata": {
        "id": "gfocHVs0Y8iD"
      },
      "execution_count": null,
      "outputs": []
    },
    {
      "cell_type": "code",
      "source": [
        "print(normalizer.mean.numpy())"
      ],
      "metadata": {
        "colab": {
          "base_uri": "https://localhost:8080/"
        },
        "id": "cPk3ro2xZIN6",
        "outputId": "9f6d97e5-6390-4f68-cd4c-21c3976f7b6f"
      },
      "execution_count": null,
      "outputs": [
        {
          "output_type": "stream",
          "name": "stdout",
          "text": [
            "[[ 4.295 84.057 75.574  0.676  0.61   0.686  1.048  1.238  0.533  0.567\n",
            "   3.038  2.01   1.61   0.829  0.537  0.79   0.819]]\n"
          ]
        }
      ]
    },
    {
      "cell_type": "code",
      "source": [
        "first = np.array(train_features[:1])\n",
        "\n",
        "with np.printoptions(precision=2, suppress=True):\n",
        "  print('First example:', first)\n",
        "  print()\n",
        "  print('Normalized:', normalizer(first).numpy())"
      ],
      "metadata": {
        "colab": {
          "base_uri": "https://localhost:8080/"
        },
        "id": "pKjQ7a1cZShl",
        "outputId": "06c7d1da-bf0c-4e95-af21-67640f095370"
      },
      "execution_count": null,
      "outputs": [
        {
          "output_type": "stream",
          "name": "stdout",
          "text": [
            "First example: [[ 4.  86.7 74.   0.   1.   1.   2.   2.   0.   1.   3.   3.   2.   1.\n",
            "   1.   1.   1. ]]\n",
            "\n",
            "Normalized: [[-0.16  0.62 -0.25 -1.06  0.8   0.68  1.01  0.86 -0.79  0.5  -0.04  0.85\n",
            "   0.52  0.45  1.01  0.51  0.47]]\n"
          ]
        }
      ]
    },
    {
      "cell_type": "markdown",
      "source": [
        "Linear regression with multiple inputs"
      ],
      "metadata": {
        "id": "lgAu0EBNhN7s"
      }
    },
    {
      "cell_type": "markdown",
      "source": [
        "Build the Keras Sequential model:"
      ],
      "metadata": {
        "id": "2rjfe0oDahh5"
      }
    },
    {
      "cell_type": "code",
      "execution_count": null,
      "metadata": {
        "colab": {
          "base_uri": "https://localhost:8080/"
        },
        "id": "TFYXagduovJv",
        "outputId": "1b4ba91b-1090-4e92-f4a4-c1080b9aa395"
      },
      "outputs": [
        {
          "output_type": "stream",
          "name": "stdout",
          "text": [
            "Model: \"sequential\"\n",
            "_________________________________________________________________\n",
            " Layer (type)                Output Shape              Param #   \n",
            "=================================================================\n",
            " normalization (Normalizatio  (None, 17)               35        \n",
            " n)                                                              \n",
            "                                                                 \n",
            " dense (Dense)               (None, 1)                 18        \n",
            "                                                                 \n",
            "=================================================================\n",
            "Total params: 53\n",
            "Trainable params: 18\n",
            "Non-trainable params: 35\n",
            "_________________________________________________________________\n"
          ]
        }
      ],
      "source": [
        "linear_model = tf.keras.Sequential([\n",
        "    normalizer,\n",
        "    layers.Dense(units=1)\n",
        "])\n",
        "\n",
        "linear_model.summary()"
      ]
    },
    {
      "cell_type": "code",
      "source": [
        "linear_model.predict(train_features[:10])\n"
      ],
      "metadata": {
        "colab": {
          "base_uri": "https://localhost:8080/"
        },
        "id": "0G-7BhfPb9ku",
        "outputId": "f50c261b-2691-405f-be87-ad2fdff0ea40"
      },
      "execution_count": null,
      "outputs": [
        {
          "output_type": "execute_result",
          "data": {
            "text/plain": [
              "array([[ 0.944],\n",
              "       [-0.372],\n",
              "       [ 0.391],\n",
              "       [ 0.032],\n",
              "       [ 0.609],\n",
              "       [ 0.86 ],\n",
              "       [-1.004],\n",
              "       [ 2.675],\n",
              "       [ 0.741],\n",
              "       [ 0.202]], dtype=float32)"
            ]
          },
          "metadata": {},
          "execution_count": 15
        }
      ]
    },
    {
      "cell_type": "code",
      "source": [
        "linear_model.compile(\n",
        "    optimizer=tf.optimizers.Adam(learning_rate=0.1),\n",
        "    loss='mean_absolute_error')"
      ],
      "metadata": {
        "id": "z84fotgVtWm1"
      },
      "execution_count": null,
      "outputs": []
    },
    {
      "cell_type": "code",
      "source": [
        "%%time\n",
        "history = linear_model.fit(\n",
        "    train_features,\n",
        "    train_labels,\n",
        "    epochs=100,\n",
        "    # Suppress logging.\n",
        "    verbose=0,\n",
        "    # Calculate validation results on 20% of the training data.\n",
        "    validation_split = 0.2)"
      ],
      "metadata": {
        "colab": {
          "base_uri": "https://localhost:8080/"
        },
        "id": "suDr0HEp8U-W",
        "outputId": "1bac90a7-5746-4338-97f1-c6bbf4dd461c"
      },
      "execution_count": null,
      "outputs": [
        {
          "output_type": "stream",
          "name": "stdout",
          "text": [
            "CPU times: user 2.5 s, sys: 119 ms, total: 2.62 s\n",
            "Wall time: 2.64 s\n"
          ]
        }
      ]
    },
    {
      "cell_type": "code",
      "source": [
        "hist = pd.DataFrame(history.history)\n",
        "hist['epoch'] = history.epoch\n",
        "hist.tail()"
      ],
      "metadata": {
        "colab": {
          "base_uri": "https://localhost:8080/",
          "height": 206
        },
        "id": "LpiLfANPe32k",
        "outputId": "31f35bb8-03a0-4afa-93b1-0989da6844cf"
      },
      "execution_count": null,
      "outputs": [
        {
          "output_type": "execute_result",
          "data": {
            "text/plain": [
              "        loss  val_loss  epoch\n",
              "95  0.247850  0.390406     95\n",
              "96  0.259047  0.429037     96\n",
              "97  0.252931  0.399163     97\n",
              "98  0.252549  0.417939     98\n",
              "99  0.250708  0.412725     99"
            ],
            "text/html": [
              "\n",
              "  <div id=\"df-b9955b67-4ef3-4f1f-a8e8-ced839a477ee\">\n",
              "    <div class=\"colab-df-container\">\n",
              "      <div>\n",
              "<style scoped>\n",
              "    .dataframe tbody tr th:only-of-type {\n",
              "        vertical-align: middle;\n",
              "    }\n",
              "\n",
              "    .dataframe tbody tr th {\n",
              "        vertical-align: top;\n",
              "    }\n",
              "\n",
              "    .dataframe thead th {\n",
              "        text-align: right;\n",
              "    }\n",
              "</style>\n",
              "<table border=\"1\" class=\"dataframe\">\n",
              "  <thead>\n",
              "    <tr style=\"text-align: right;\">\n",
              "      <th></th>\n",
              "      <th>loss</th>\n",
              "      <th>val_loss</th>\n",
              "      <th>epoch</th>\n",
              "    </tr>\n",
              "  </thead>\n",
              "  <tbody>\n",
              "    <tr>\n",
              "      <th>95</th>\n",
              "      <td>0.247850</td>\n",
              "      <td>0.390406</td>\n",
              "      <td>95</td>\n",
              "    </tr>\n",
              "    <tr>\n",
              "      <th>96</th>\n",
              "      <td>0.259047</td>\n",
              "      <td>0.429037</td>\n",
              "      <td>96</td>\n",
              "    </tr>\n",
              "    <tr>\n",
              "      <th>97</th>\n",
              "      <td>0.252931</td>\n",
              "      <td>0.399163</td>\n",
              "      <td>97</td>\n",
              "    </tr>\n",
              "    <tr>\n",
              "      <th>98</th>\n",
              "      <td>0.252549</td>\n",
              "      <td>0.417939</td>\n",
              "      <td>98</td>\n",
              "    </tr>\n",
              "    <tr>\n",
              "      <th>99</th>\n",
              "      <td>0.250708</td>\n",
              "      <td>0.412725</td>\n",
              "      <td>99</td>\n",
              "    </tr>\n",
              "  </tbody>\n",
              "</table>\n",
              "</div>\n",
              "      <button class=\"colab-df-convert\" onclick=\"convertToInteractive('df-b9955b67-4ef3-4f1f-a8e8-ced839a477ee')\"\n",
              "              title=\"Convert this dataframe to an interactive table.\"\n",
              "              style=\"display:none;\">\n",
              "        \n",
              "  <svg xmlns=\"http://www.w3.org/2000/svg\" height=\"24px\"viewBox=\"0 0 24 24\"\n",
              "       width=\"24px\">\n",
              "    <path d=\"M0 0h24v24H0V0z\" fill=\"none\"/>\n",
              "    <path d=\"M18.56 5.44l.94 2.06.94-2.06 2.06-.94-2.06-.94-.94-2.06-.94 2.06-2.06.94zm-11 1L8.5 8.5l.94-2.06 2.06-.94-2.06-.94L8.5 2.5l-.94 2.06-2.06.94zm10 10l.94 2.06.94-2.06 2.06-.94-2.06-.94-.94-2.06-.94 2.06-2.06.94z\"/><path d=\"M17.41 7.96l-1.37-1.37c-.4-.4-.92-.59-1.43-.59-.52 0-1.04.2-1.43.59L10.3 9.45l-7.72 7.72c-.78.78-.78 2.05 0 2.83L4 21.41c.39.39.9.59 1.41.59.51 0 1.02-.2 1.41-.59l7.78-7.78 2.81-2.81c.8-.78.8-2.07 0-2.86zM5.41 20L4 18.59l7.72-7.72 1.47 1.35L5.41 20z\"/>\n",
              "  </svg>\n",
              "      </button>\n",
              "      \n",
              "  <style>\n",
              "    .colab-df-container {\n",
              "      display:flex;\n",
              "      flex-wrap:wrap;\n",
              "      gap: 12px;\n",
              "    }\n",
              "\n",
              "    .colab-df-convert {\n",
              "      background-color: #E8F0FE;\n",
              "      border: none;\n",
              "      border-radius: 50%;\n",
              "      cursor: pointer;\n",
              "      display: none;\n",
              "      fill: #1967D2;\n",
              "      height: 32px;\n",
              "      padding: 0 0 0 0;\n",
              "      width: 32px;\n",
              "    }\n",
              "\n",
              "    .colab-df-convert:hover {\n",
              "      background-color: #E2EBFA;\n",
              "      box-shadow: 0px 1px 2px rgba(60, 64, 67, 0.3), 0px 1px 3px 1px rgba(60, 64, 67, 0.15);\n",
              "      fill: #174EA6;\n",
              "    }\n",
              "\n",
              "    [theme=dark] .colab-df-convert {\n",
              "      background-color: #3B4455;\n",
              "      fill: #D2E3FC;\n",
              "    }\n",
              "\n",
              "    [theme=dark] .colab-df-convert:hover {\n",
              "      background-color: #434B5C;\n",
              "      box-shadow: 0px 1px 3px 1px rgba(0, 0, 0, 0.15);\n",
              "      filter: drop-shadow(0px 1px 2px rgba(0, 0, 0, 0.3));\n",
              "      fill: #FFFFFF;\n",
              "    }\n",
              "  </style>\n",
              "\n",
              "      <script>\n",
              "        const buttonEl =\n",
              "          document.querySelector('#df-b9955b67-4ef3-4f1f-a8e8-ced839a477ee button.colab-df-convert');\n",
              "        buttonEl.style.display =\n",
              "          google.colab.kernel.accessAllowed ? 'block' : 'none';\n",
              "\n",
              "        async function convertToInteractive(key) {\n",
              "          const element = document.querySelector('#df-b9955b67-4ef3-4f1f-a8e8-ced839a477ee');\n",
              "          const dataTable =\n",
              "            await google.colab.kernel.invokeFunction('convertToInteractive',\n",
              "                                                     [key], {});\n",
              "          if (!dataTable) return;\n",
              "\n",
              "          const docLinkHtml = 'Like what you see? Visit the ' +\n",
              "            '<a target=\"_blank\" href=https://colab.research.google.com/notebooks/data_table.ipynb>data table notebook</a>'\n",
              "            + ' to learn more about interactive tables.';\n",
              "          element.innerHTML = '';\n",
              "          dataTable['output_type'] = 'display_data';\n",
              "          await google.colab.output.renderOutput(dataTable, element);\n",
              "          const docLink = document.createElement('div');\n",
              "          docLink.innerHTML = docLinkHtml;\n",
              "          element.appendChild(docLink);\n",
              "        }\n",
              "      </script>\n",
              "    </div>\n",
              "  </div>\n",
              "  "
            ]
          },
          "metadata": {},
          "execution_count": 18
        }
      ]
    },
    {
      "cell_type": "code",
      "source": [
        "def plot_loss(history):\n",
        "  plt.plot(history.history['loss'], label='loss')\n",
        "  plt.plot(history.history['val_loss'], label='val_loss')\n",
        "  plt.ylim([0, 10])\n",
        "  plt.xlabel('Epoch')\n",
        "  plt.ylabel('Error [GPA]')\n",
        "  plt.legend()\n",
        "  plt.grid(True)"
      ],
      "metadata": {
        "id": "pCRiZDaSfExO"
      },
      "execution_count": null,
      "outputs": []
    },
    {
      "cell_type": "code",
      "source": [
        "plot_loss(history)"
      ],
      "metadata": {
        "colab": {
          "base_uri": "https://localhost:8080/",
          "height": 283
        },
        "id": "zmiKqWfsfQIl",
        "outputId": "3e54c559-002e-4cb7-9ded-dec43ebff7b1"
      },
      "execution_count": null,
      "outputs": [
        {
          "output_type": "display_data",
          "data": {
            "text/plain": [
              "<Figure size 432x288 with 1 Axes>"
            ],
            "image/png": "[encoded data removed]"
          },
          "metadata": {
            "needs_background": "light"
          }
        }
      ]
    },
    {
      "cell_type": "code",
      "source": [
        "test_results = {}\n",
        "\n",
        "test_results['linear_model'] = linear_model.evaluate(test_features, test_labels, verbose=0)"
      ],
      "metadata": {
        "id": "ovC8gM3SfdwT"
      },
      "execution_count": null,
      "outputs": []
    },
    {
      "cell_type": "markdown",
      "source": [
        "# **Regression with a deep neural network (DNN)**"
      ],
      "metadata": {
        "id": "7b_viapECl14"
      }
    },
    {
      "cell_type": "code",
      "source": [
        "def build_and_compile_model(norm):\n",
        "  model = tf.keras.Sequential([\n",
        "      norm,\n",
        "      layers.Dense(64, activation='relu'),\n",
        "      layers.Dense(64, activation='relu'),\n",
        "      layers.Dense(1)\n",
        "  ])\n",
        "\n",
        "  model.compile(loss='mean_absolute_error',\n",
        "                optimizer=tf.keras.optimizers.Adam(0.001))\n",
        "  return model"
      ],
      "metadata": {
        "id": "bPag5KVkCx6g"
      },
      "execution_count": null,
      "outputs": []
    },
    {
      "cell_type": "code",
      "source": [
        "dnn_model = build_and_compile_model(normalizer)\n",
        "dnn_model.summary()"
      ],
      "metadata": {
        "colab": {
          "base_uri": "https://localhost:8080/"
        },
        "id": "pRns4ssFGAVb",
        "outputId": "c0a716a3-1aad-497f-960c-bab10647e332"
      },
      "execution_count": null,
      "outputs": [
        {
          "output_type": "stream",
          "name": "stdout",
          "text": [
            "Model: \"sequential_1\"\n",
            "_________________________________________________________________\n",
            " Layer (type)                Output Shape              Param #   \n",
            "=================================================================\n",
            " normalization (Normalizatio  (None, 17)               35        \n",
            " n)                                                              \n",
            "                                                                 \n",
            " dense_1 (Dense)             (None, 64)                1152      \n",
            "                                                                 \n",
            " dense_2 (Dense)             (None, 64)                4160      \n",
            "                                                                 \n",
            " dense_3 (Dense)             (None, 1)                 65        \n",
            "                                                                 \n",
            "=================================================================\n",
            "Total params: 5,412\n",
            "Trainable params: 5,377\n",
            "Non-trainable params: 35\n",
            "_________________________________________________________________\n"
          ]
        }
      ]
    },
    {
      "cell_type": "code",
      "source": [
        "%%time\n",
        "history = dnn_model.fit(\n",
        "    train_features,\n",
        "    train_labels,\n",
        "    validation_split=0.2,\n",
        "    verbose=0, epochs=100)"
      ],
      "metadata": {
        "colab": {
          "base_uri": "https://localhost:8080/"
        },
        "id": "hOyAY-JMGFjy",
        "outputId": "639a4484-b173-4a82-c0c7-6946c64d57b4"
      },
      "execution_count": null,
      "outputs": [
        {
          "output_type": "stream",
          "name": "stdout",
          "text": [
            "CPU times: user 2.71 s, sys: 139 ms, total: 2.85 s\n",
            "Wall time: 2.66 s\n"
          ]
        }
      ]
    },
    {
      "cell_type": "code",
      "source": [
        "plot_loss(history)"
      ],
      "metadata": {
        "colab": {
          "base_uri": "https://localhost:8080/",
          "height": 283
        },
        "id": "ydyQopWzGJkZ",
        "outputId": "897972d7-6cd6-4d38-af17-ddf455080c61"
      },
      "execution_count": null,
      "outputs": [
        {
          "output_type": "display_data",
          "data": {
            "text/plain": [
              "<Figure size 432x288 with 1 Axes>"
            ],
            "image/png": "[encoded data removed]"
          },
          "metadata": {
            "needs_background": "light"
          }
        }
      ]
    },
    {
      "cell_type": "code",
      "source": [
        "test_results['dnn_model'] = dnn_model.evaluate(test_features, test_labels, verbose=0)\n",
        "test_results['dnn_model']"
      ],
      "metadata": {
        "id": "JtCDKzcwGPCo",
        "colab": {
          "base_uri": "https://localhost:8080/"
        },
        "outputId": "a201187c-6da6-4fd6-bab5-160d30210c1d"
      },
      "execution_count": null,
      "outputs": [
        {
          "output_type": "execute_result",
          "data": {
            "text/plain": [
              "0.4713587462902069"
            ]
          },
          "metadata": {},
          "execution_count": 33
        }
      ]
    },
    {
      "cell_type": "markdown",
      "source": [
        "# **RandomForestRegressor**"
      ],
      "metadata": {
        "id": "Ba9R17P6Z2oH"
      }
    },
    {
      "cell_type": "code",
      "source": [
        "# Initializing the Random Forest Regression model with 100 decision trees\n",
        "RandomForest_model = RandomForestRegressor(n_estimators = 100, random_state = 0)\n",
        "\n",
        "RandomForest_model.fit(train_features, train_labels)"
      ],
      "metadata": {
        "colab": {
          "base_uri": "https://localhost:8080/"
        },
        "id": "Fdqo44l9Z3mT",
        "outputId": "b7420c9d-c364-44f3-af73-7eb0d5b3550d"
      },
      "execution_count": null,
      "outputs": [
        {
          "output_type": "execute_result",
          "data": {
            "text/plain": [
              "RandomForestRegressor(random_state=0)"
            ]
          },
          "metadata": {},
          "execution_count": 37
        }
      ]
    },
    {
      "cell_type": "code",
      "source": [
        "# Predicting the target values of the test set\n",
        "y_pred = RandomForest_model.predict(test_features)\n",
        "\n",
        "# RMSE (Root Mean Square Error)\n",
        "rmse = float(format(np.sqrt(mean_squared_error(test_labels, y_pred)), '.3f'))\n",
        "print(\"\\nRMSE: \", rmse)"
      ],
      "metadata": {
        "colab": {
          "base_uri": "https://localhost:8080/"
        },
        "id": "fPLnO48raQ5W",
        "outputId": "63e31303-5d7d-44a3-bd42-05000bc10cdd"
      },
      "execution_count": null,
      "outputs": [
        {
          "output_type": "stream",
          "name": "stdout",
          "text": [
            "\n",
            "RMSE:  0.393\n"
          ]
        }
      ]
    },
    {
      "cell_type": "code",
      "source": [
        "test_results['RandomForest_model'] = mean_squared_error(test_labels, y_pred)\n",
        "test_results['RandomForest_model']"
      ],
      "metadata": {
        "colab": {
          "base_uri": "https://localhost:8080/"
        },
        "id": "WN2Kw6EGawJo",
        "outputId": "4ae8aa54-f45b-4f4b-bb9e-6ee43a3ee193"
      },
      "execution_count": null,
      "outputs": [
        {
          "output_type": "execute_result",
          "data": {
            "text/plain": [
              "0.1547350727818477"
            ]
          },
          "metadata": {},
          "execution_count": 41
        }
      ]
    },
    {
      "cell_type": "code",
      "source": [
        "pd.DataFrame(test_results, index=['Mean absolute error [MPG]']).T"
      ],
      "metadata": {
        "colab": {
          "base_uri": "https://localhost:8080/",
          "height": 143
        },
        "id": "plZKJCwtbTxh",
        "outputId": "f04628cf-b7f3-466c-e5b0-ef578531c551"
      },
      "execution_count": null,
      "outputs": [
        {
          "output_type": "execute_result",
          "data": {
            "text/plain": [
              "                    Mean absolute error [MPG]\n",
              "linear_model                         0.576896\n",
              "dnn_model                            0.471359\n",
              "RandomForest_model                   0.154735"
            ],
            "text/html": [
              "\n",
              "  <div id=\"df-e778da75-4dfc-46fa-a816-46891d7ca97e\">\n",
              "    <div class=\"colab-df-container\">\n",
              "      <div>\n",
              "<style scoped>\n",
              "    .dataframe tbody tr th:only-of-type {\n",
              "        vertical-align: middle;\n",
              "    }\n",
              "\n",
              "    .dataframe tbody tr th {\n",
              "        vertical-align: top;\n",
              "    }\n",
              "\n",
              "    .dataframe thead th {\n",
              "        text-align: right;\n",
              "    }\n",
              "</style>\n",
              "<table border=\"1\" class=\"dataframe\">\n",
              "  <thead>\n",
              "    <tr style=\"text-align: right;\">\n",
              "      <th></th>\n",
              "      <th>Mean absolute error [MPG]</th>\n",
              "    </tr>\n",
              "  </thead>\n",
              "  <tbody>\n",
              "    <tr>\n",
              "      <th>linear_model</th>\n",
              "      <td>0.576896</td>\n",
              "    </tr>\n",
              "    <tr>\n",
              "      <th>dnn_model</th>\n",
              "      <td>0.471359</td>\n",
              "    </tr>\n",
              "    <tr>\n",
              "      <th>RandomForest_model</th>\n",
              "      <td>0.154735</td>\n",
              "    </tr>\n",
              "  </tbody>\n",
              "</table>\n",
              "</div>\n",
              "      <button class=\"colab-df-convert\" onclick=\"convertToInteractive('df-e778da75-4dfc-46fa-a816-46891d7ca97e')\"\n",
              "              title=\"Convert this dataframe to an interactive table.\"\n",
              "              style=\"display:none;\">\n",
              "        \n",
              "  <svg xmlns=\"http://www.w3.org/2000/svg\" height=\"24px\"viewBox=\"0 0 24 24\"\n",
              "       width=\"24px\">\n",
              "    <path d=\"M0 0h24v24H0V0z\" fill=\"none\"/>\n",
              "    <path d=\"M18.56 5.44l.94 2.06.94-2.06 2.06-.94-2.06-.94-.94-2.06-.94 2.06-2.06.94zm-11 1L8.5 8.5l.94-2.06 2.06-.94-2.06-.94L8.5 2.5l-.94 2.06-2.06.94zm10 10l.94 2.06.94-2.06 2.06-.94-2.06-.94-.94-2.06-.94 2.06-2.06.94z\"/><path d=\"M17.41 7.96l-1.37-1.37c-.4-.4-.92-.59-1.43-.59-.52 0-1.04.2-1.43.59L10.3 9.45l-7.72 7.72c-.78.78-.78 2.05 0 2.83L4 21.41c.39.39.9.59 1.41.59.51 0 1.02-.2 1.41-.59l7.78-7.78 2.81-2.81c.8-.78.8-2.07 0-2.86zM5.41 20L4 18.59l7.72-7.72 1.47 1.35L5.41 20z\"/>\n",
              "  </svg>\n",
              "      </button>\n",
              "      \n",
              "  <style>\n",
              "    .colab-df-container {\n",
              "      display:flex;\n",
              "      flex-wrap:wrap;\n",
              "      gap: 12px;\n",
              "    }\n",
              "\n",
              "    .colab-df-convert {\n",
              "      background-color: #E8F0FE;\n",
              "      border: none;\n",
              "      border-radius: 50%;\n",
              "      cursor: pointer;\n",
              "      display: none;\n",
              "      fill: #1967D2;\n",
              "      height: 32px;\n",
              "      padding: 0 0 0 0;\n",
              "      width: 32px;\n",
              "    }\n",
              "\n",
              "    .colab-df-convert:hover {\n",
              "      background-color: #E2EBFA;\n",
              "      box-shadow: 0px 1px 2px rgba(60, 64, 67, 0.3), 0px 1px 3px 1px rgba(60, 64, 67, 0.15);\n",
              "      fill: #174EA6;\n",
              "    }\n",
              "\n",
              "    [theme=dark] .colab-df-convert {\n",
              "      background-color: #3B4455;\n",
              "      fill: #D2E3FC;\n",
              "    }\n",
              "\n",
              "    [theme=dark] .colab-df-convert:hover {\n",
              "      background-color: #434B5C;\n",
              "      box-shadow: 0px 1px 3px 1px rgba(0, 0, 0, 0.15);\n",
              "      filter: drop-shadow(0px 1px 2px rgba(0, 0, 0, 0.3));\n",
              "      fill: #FFFFFF;\n",
              "    }\n",
              "  </style>\n",
              "\n",
              "      <script>\n",
              "        const buttonEl =\n",
              "          document.querySelector('#df-e778da75-4dfc-46fa-a816-46891d7ca97e button.colab-df-convert');\n",
              "        buttonEl.style.display =\n",
              "          google.colab.kernel.accessAllowed ? 'block' : 'none';\n",
              "\n",
              "        async function convertToInteractive(key) {\n",
              "          const element = document.querySelector('#df-e778da75-4dfc-46fa-a816-46891d7ca97e');\n",
              "          const dataTable =\n",
              "            await google.colab.kernel.invokeFunction('convertToInteractive',\n",
              "                                                     [key], {});\n",
              "          if (!dataTable) return;\n",
              "\n",
              "          const docLinkHtml = 'Like what you see? Visit the ' +\n",
              "            '<a target=\"_blank\" href=https://colab.research.google.com/notebooks/data_table.ipynb>data table notebook</a>'\n",
              "            + ' to learn more about interactive tables.';\n",
              "          element.innerHTML = '';\n",
              "          dataTable['output_type'] = 'display_data';\n",
              "          await google.colab.output.renderOutput(dataTable, element);\n",
              "          const docLink = document.createElement('div');\n",
              "          docLink.innerHTML = docLinkHtml;\n",
              "          element.appendChild(docLink);\n",
              "        }\n",
              "      </script>\n",
              "    </div>\n",
              "  </div>\n",
              "  "
            ]
          },
          "metadata": {},
          "execution_count": 49
        }
      ]
    },
    {
      "cell_type": "markdown",
      "source": [
        "**Make predictions**"
      ],
      "metadata": {
        "id": "vctUc4ZVGmJI"
      }
    },
    {
      "cell_type": "code",
      "source": [
        "test_predictions = dnn_model.predict(test_features).flatten()\n",
        "\n",
        "a = plt.axes(aspect='equal')\n",
        "plt.scatter(test_labels, test_predictions)\n",
        "plt.xlabel('True Values [MPG]')\n",
        "plt.ylabel('Predictions [MPG]')\n",
        "lims = [0, 5]\n",
        "plt.xlim(lims)\n",
        "plt.ylim(lims)\n",
        "_ = plt.plot(lims, lims)"
      ],
      "metadata": {
        "colab": {
          "base_uri": "https://localhost:8080/",
          "height": 283
        },
        "id": "7FPL7kZJGoUD",
        "outputId": "5ada85fe-9f39-453a-d5f0-578ec6e0deb4"
      },
      "execution_count": null,
      "outputs": [
        {
          "output_type": "display_data",
          "data": {
            "text/plain": [
              "<Figure size 432x288 with 1 Axes>"
            ],
            "image/png": "[encoded data removed]"
          },
          "metadata": {
            "needs_background": "light"
          }
        }
      ]
    },
    {
      "cell_type": "code",
      "source": [
        "#test predections for RandomForest_model\n",
        "test_RandomForest_predictions = RandomForest_model.predict(test_features).flatten()\n",
        "\n",
        "a = plt.axes(aspect='equal')\n",
        "plt.scatter(test_labels, test_RandomForest_predictions)\n",
        "plt.xlabel('True Values [MPG]')\n",
        "plt.ylabel('Predictions [MPG]')\n",
        "lims = [0, 5]\n",
        "plt.xlim(lims)\n",
        "plt.ylim(lims)\n",
        "_ = plt.plot(lims, lims)"
      ],
      "metadata": {
        "colab": {
          "base_uri": "https://localhost:8080/",
          "height": 283
        },
        "id": "Is8yiojDboMD",
        "outputId": "3cbaa1e4-354d-49e1-fa61-69cccdf8437f"
      },
      "execution_count": null,
      "outputs": [
        {
          "output_type": "display_data",
          "data": {
            "text/plain": [
              "<Figure size 432x288 with 1 Axes>"
            ],
            "image/png": "[encoded data removed]"
          },
          "metadata": {
            "needs_background": "light"
          }
        }
      ]
    },
    {
      "cell_type": "markdown",
      "source": [
        " **check the error distribution:**"
      ],
      "metadata": {
        "id": "LfGBq0CnHCsp"
      }
    },
    {
      "cell_type": "code",
      "source": [
        "error = test_predictions - test_labels\n",
        "plt.hist(error, bins=25)\n",
        "plt.xlabel('Prediction Error [MPG]')\n",
        "_ = plt.ylabel('Count')"
      ],
      "metadata": {
        "colab": {
          "base_uri": "https://localhost:8080/",
          "height": 279
        },
        "id": "ftIhBkX9HHa9",
        "outputId": "f045ef7b-3048-409f-801f-a767e6e48431"
      },
      "execution_count": null,
      "outputs": [
        {
          "output_type": "display_data",
          "data": {
            "text/plain": [
              "<Figure size 432x288 with 1 Axes>"
            ],
            "image/png": "[encoded data removed]"
          },
          "metadata": {
            "needs_background": "light"
          }
        }
      ]
    },
    {
      "cell_type": "code",
      "source": [
        "error = test_RandomForest_predictions - test_labels\n",
        "plt.hist(error, bins=25)\n",
        "plt.xlabel('Prediction Error [MPG]')\n",
        "_ = plt.ylabel('Count')"
      ],
      "metadata": {
        "colab": {
          "base_uri": "https://localhost:8080/",
          "height": 279
        },
        "id": "i7CtRWVAcAqO",
        "outputId": "ef9ef94f-8648-4151-820c-16990f5a00fe"
      },
      "execution_count": null,
      "outputs": [
        {
          "output_type": "display_data",
          "data": {
            "text/plain": [
              "<Figure size 432x288 with 1 Axes>"
            ],
            "image/png": "[encoded data removed]"
          },
          "metadata": {
            "needs_background": "light"
          }
        }
      ]
    },
    {
      "cell_type": "code",
      "source": [
        "# Export the model to a SavedModel.\n",
        "dnn_model.save('project/dnn_model')"
      ],
      "metadata": {
        "colab": {
          "base_uri": "https://localhost:8080/"
        },
        "id": "thPvzD8gHUd-",
        "outputId": "5315c5c5-2641-4ea8-fb88-b1695861d9d7"
      },
      "execution_count": null,
      "outputs": [
        {
          "output_type": "stream",
          "name": "stdout",
          "text": [
            "INFO:tensorflow:Assets written to: project/dnn_model/assets\n"
          ]
        }
      ]
    }
  ]
}